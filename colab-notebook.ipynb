{
 "cells": [
  {
   "cell_type": "markdown",
   "metadata": {
    "colab_type": "text",
    "id": "oRvOt7TI8Ur9"
   },
   "source": [
    "Open this notebook in Google Colab:\n",
    "[![Open In Colab](https://colab.research.google.com/assets/colab-badge.svg)](https://colab.research.google.com/github/bogeholm/colab-github-integration/blob/master/colab-notebook.ipynb)\n",
    "\n",
    "If your notebook is on master, the link is:\n",
    "```html\n",
    "https://colab.research.google.com/github/<github user>/<github repo>/blob/master/<notebook name>.ipynb\n",
    "```"
   ]
  },
  {
   "cell_type": "markdown",
   "metadata": {
    "colab_type": "text",
    "id": "ZAjsoaj28XEo"
   },
   "source": [
    "This commit is from Google Colab!"
   ]
  },
  {
   "cell_type": "markdown",
   "metadata": {},
   "source": [
    "### Log in to Google to run code\n",
    "To run code, you must be logged id to a Google account:"
   ]
  },
  {
   "cell_type": "code",
   "execution_count": 1,
   "metadata": {},
   "outputs": [
    {
     "name": "stdout",
     "output_type": "stream",
     "text": [
      "1\n",
      "2\n",
      "fizz\n",
      "4\n",
      "buzz\n",
      "fizz\n",
      "7\n",
      "8\n",
      "fizz\n",
      "buzz\n",
      "11\n",
      "fizz\n",
      "13\n",
      "14\n",
      "fizzbuzz\n"
     ]
    }
   ],
   "source": [
    "def fizzbuzz(N=15):\n",
    "  for n in range(1, N+1):\n",
    "    if n % 15 == 0:\n",
    "      print('fizzbuzz')\n",
    "    elif n % 3 == 0:\n",
    "      print('fizz')\n",
    "    elif n % 5 == 0:\n",
    "      print('buzz')\n",
    "    else:\n",
    "      print(n)\n",
    "\n",
    "fizzbuzz()"
   ]
  },
  {
   "cell_type": "markdown",
   "metadata": {},
   "source": [
    "### Log in to GitHub to save\n",
    "<ul>\n",
    "    <li>To save changes from Colab to GitHub, go to 'File' > 'Save a copy in GitHub...'</li>\n",
    "    <li>You must be logged in to save to GitHub</li>\n",
    "</ul>"
   ]
  },
  {
   "cell_type": "code",
   "execution_count": 2,
   "metadata": {},
   "outputs": [],
   "source": [
    "# Edit this line and check"
   ]
  }
 ],
 "metadata": {
  "colab": {
   "name": "colab-notebook.ipynb",
   "provenance": []
  },
  "kernelspec": {
   "display_name": "Python 3",
   "language": "python",
   "name": "python3"
  },
  "language_info": {
   "codemirror_mode": {
    "name": "ipython",
    "version": 3
   },
   "file_extension": ".py",
   "mimetype": "text/x-python",
   "name": "python",
   "nbconvert_exporter": "python",
   "pygments_lexer": "ipython3",
   "version": "3.7.3"
  }
 },
 "nbformat": 4,
 "nbformat_minor": 1
}
