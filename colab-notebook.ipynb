{
 "cells": [
  {
   "cell_type": "markdown",
   "metadata": {
    "colab_type": "text",
    "id": "oRvOt7TI8Ur9"
   },
   "source": [
    "Open this notebook in Google Colab:\n",
    "[![Open In Colab](https://colab.research.google.com/assets/colab-badge.svg)](https://colab.research.google.com/github/bogeholm/colab-github-integration/blob/master/colab-notebook.ipynb)\n",
    "\n",
    "Link is:\n",
    "```html\n",
    "https://colab.research.google.com/github/<github user>/<github repo>/blob/master/<notebook name>.ipynb\n",
    "```"
   ]
  },
  {
   "cell_type": "markdown",
   "metadata": {
    "colab_type": "text",
    "id": "ZAjsoaj28XEo"
   },
   "source": [
    "This commit is from Google Colab!"
   ]
  }
 ],
 "metadata": {
  "colab": {
   "name": "colab-notebook.ipynb",
   "provenance": []
  },
  "kernelspec": {
   "display_name": "Python 3",
   "language": "python",
   "name": "python3"
  },
  "language_info": {
   "codemirror_mode": {
    "name": "ipython",
    "version": 3
   },
   "file_extension": ".py",
   "mimetype": "text/x-python",
   "name": "python",
   "nbconvert_exporter": "python",
   "pygments_lexer": "ipython3",
   "version": "3.7.3"
  }
 },
 "nbformat": 4,
 "nbformat_minor": 1
}
