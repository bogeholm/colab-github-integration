{
  "nbformat": 4,
  "nbformat_minor": 0,
  "metadata": {
    "kernelspec": {
      "display_name": "Python 3",
      "language": "python",
      "name": "python3"
    },
    "language_info": {
      "codemirror_mode": {
        "name": "ipython",
        "version": 3
      },
      "file_extension": ".py",
      "mimetype": "text/x-python",
      "name": "python",
      "nbconvert_exporter": "python",
      "pygments_lexer": "ipython3",
      "version": "3.7.3"
    },
    "colab": {
      "name": "colab-google-drive.ipynb",
      "provenance": [],
      "include_colab_link": true
    }
  },
  "cells": [
    {
      "cell_type": "markdown",
      "metadata": {
        "id": "view-in-github",
        "colab_type": "text"
      },
      "source": [
        "<a href=\"https://colab.research.google.com/github/bogeholm/colab-github-integration/blob/master/colab-google-drive.ipynb\" target=\"_parent\"><img src=\"https://colab.research.google.com/assets/colab-badge.svg\" alt=\"Open In Colab\"/></a>"
      ]
    },
    {
      "cell_type": "markdown",
      "metadata": {
        "id": "GYgf5yvSe8IC",
        "colab_type": "text"
      },
      "source": [
        "Open this notebook in Google Colab:\n",
        "[![Open In Colab](https://colab.research.google.com/assets/colab-badge.svg)](https://colab.research.google.com/github/bogeholm/colab-github-integration/blob/master/colab-google-drive.ipynb)\n",
        "\n",
        "If your notebook is on master, the link is:\n",
        "```html\n",
        "https://colab.research.google.com/github/<github user>/<github repo>/blob/master/<notebook name>.ipynb\n",
        "```"
      ]
    },
    {
      "cell_type": "code",
      "metadata": {
        "id": "V7GYU9Ade8IL",
        "colab_type": "code",
        "colab": {}
      },
      "source": [
        "import os, sys"
      ],
      "execution_count": 0,
      "outputs": []
    },
    {
      "cell_type": "code",
      "metadata": {
        "id": "OSQJjtS-e8Ic",
        "colab_type": "code",
        "colab": {
          "base_uri": "https://localhost:8080/",
          "height": 34
        },
        "outputId": "09604be8-4000-41f2-d549-f46b57c99610"
      },
      "source": [
        "IN_COLAB = 'google.colab' in sys.modules\n",
        "if IN_COLAB:\n",
        "    from google.colab import drive\n",
        "    drive.mount('/content/drive')"
      ],
      "execution_count": 4,
      "outputs": [
        {
          "output_type": "stream",
          "text": [
            "Drive already mounted at /content/drive; to attempt to forcibly remount, call drive.mount(\"/content/drive\", force_remount=True).\n"
          ],
          "name": "stdout"
        }
      ]
    },
    {
      "cell_type": "code",
      "metadata": {
        "id": "uD90ArHcfIXG",
        "colab_type": "code",
        "colab": {
          "base_uri": "https://localhost:8080/",
          "height": 34
        },
        "outputId": "d9cf5462-0d6c-4291-ad86-8f4e4a70a49a"
      },
      "source": [
        "!ls drive/"
      ],
      "execution_count": 7,
      "outputs": [
        {
          "output_type": "stream",
          "text": [
            "'My Drive'\n"
          ],
          "name": "stdout"
        }
      ]
    },
    {
      "cell_type": "code",
      "metadata": {
        "id": "JG9_LcQVfXKO",
        "colab_type": "code",
        "colab": {
          "base_uri": "https://localhost:8080/",
          "height": 34
        },
        "outputId": "9bc789d3-cffa-42fe-bd51-938be969fe88"
      },
      "source": [
        "os.listdir('drive/My Drive/data/')"
      ],
      "execution_count": 9,
      "outputs": [
        {
          "output_type": "execute_result",
          "data": {
            "text/plain": [
              "['bulldozers', '.DS_Store']"
            ]
          },
          "metadata": {
            "tags": []
          },
          "execution_count": 9
        }
      ]
    },
    {
      "cell_type": "code",
      "metadata": {
        "id": "PAYbx_H_f9ro",
        "colab_type": "code",
        "colab": {}
      },
      "source": [
        "def get_datapath(basepath_local='data/', basepath_colab='My Drive/data/'):\n",
        "    \"\"\" Return path to data directory depending on whether the\n",
        "        notebook is running in Google Colab or not\n",
        "    \"\"\"\n",
        "    if 'google.colab' in sys.modules:\n",
        "        # Notebook is running in Google Colab\n",
        "        from google.colab import drive\n",
        "        drive.mount('/content/drive')\n",
        "        return 'drive/' + basepath_colab\n",
        "    else:\n",
        "        return basepath_local"
      ],
      "execution_count": 0,
      "outputs": []
    },
    {
      "cell_type": "code",
      "metadata": {
        "id": "e0C6VytUh_0I",
        "colab_type": "code",
        "colab": {
          "base_uri": "https://localhost:8080/",
          "height": 52
        },
        "outputId": "83bf8466-8e98-4052-8373-ffc3e18060fe"
      },
      "source": [
        "get_datapath()"
      ],
      "execution_count": 11,
      "outputs": [
        {
          "output_type": "stream",
          "text": [
            "Drive already mounted at /content/drive; to attempt to forcibly remount, call drive.mount(\"/content/drive\", force_remount=True).\n"
          ],
          "name": "stdout"
        },
        {
          "output_type": "execute_result",
          "data": {
            "text/plain": [
              "'drive/My Drive/data/'"
            ]
          },
          "metadata": {
            "tags": []
          },
          "execution_count": 11
        }
      ]
    },
    {
      "cell_type": "code",
      "metadata": {
        "id": "O6Q1cj9kiBSn",
        "colab_type": "code",
        "colab": {
          "base_uri": "https://localhost:8080/",
          "height": 451
        },
        "outputId": "876c5f02-fa72-44ea-ee9e-9ab018204be7"
      },
      "source": [
        ""
      ],
      "execution_count": 12,
      "outputs": [
        {
          "output_type": "execute_result",
          "data": {
            "text/plain": [
              "['_',\n",
              " '_Environment',\n",
              " '__all__',\n",
              " '__builtins__',\n",
              " '__cached__',\n",
              " '__doc__',\n",
              " '__file__',\n",
              " '__loader__',\n",
              " '__name__',\n",
              " '__package__',\n",
              " '__spec__',\n",
              " '_collections',\n",
              " '_env',\n",
              " '_getpass',\n",
              " '_os',\n",
              " '_popen_spawn',\n",
              " '_signal',\n",
              " '_socket',\n",
              " '_subprocess',\n",
              " '_sys',\n",
              " '_tempfile',\n",
              " '_timeouts_path',\n",
              " '_uuid',\n",
              " 'flush_and_unmount',\n",
              " 'mount']"
            ]
          },
          "metadata": {
            "tags": []
          },
          "execution_count": 12
        }
      ]
    },
    {
      "cell_type": "code",
      "metadata": {
        "id": "uFsWBxn4iJcl",
        "colab_type": "code",
        "colab": {}
      },
      "source": [
        ""
      ],
      "execution_count": 0,
      "outputs": []
    }
  ]
}