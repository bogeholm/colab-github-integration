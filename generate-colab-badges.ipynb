{
 "cells": [
  {
   "cell_type": "code",
   "execution_count": 1,
   "metadata": {},
   "outputs": [],
   "source": [
    "from IPython.core.display import display, HTML\n",
    "display(HTML(\"<style>.container { width:90% !important; }</style>\"))\n",
    "\n",
    "from functools import partial\n",
    "from pathlib import Path\n",
    "from typing import List, Union"
   ]
  },
  {
   "cell_type": "markdown",
   "metadata": {},
   "source": [
    "### Introduction\n",
    "Generate Google Colab links from all `*.ipynb`-files in a directory"
   ]
  },
  {
   "cell_type": "code",
   "execution_count": 2,
   "metadata": {},
   "outputs": [],
   "source": [
    "BADGE_LINK_BASE = (\"[![Open In Colab]\"\n",
    "              + \"(https://colab.research.google.com/assets/colab-badge.svg)]\"\n",
    "              + \"(https://colab.research.google.com/\"\n",
    "              + \"{git_provider}/{git_username}/{git_repo}/blob/{git_pointer}/{notebook_name})\")\n",
    "\n",
    "# Edit these as appropriate\n",
    "GIT_PROVIDER = \"github\"\n",
    "GIT_USERNAME = \"bogeholm\"\n",
    "GIT_REPO = \"fastbook\"\n",
    "GIT_POINTER = \"master\"\n",
    "\n",
    "badge_link = partial(BADGE_LINK_BASE.format,\n",
    "                    git_provider=GIT_PROVIDER, git_username=GIT_USERNAME, git_repo=GIT_REPO, git_pointer=GIT_POINTER)"
   ]
  },
  {
   "cell_type": "code",
   "execution_count": 3,
   "metadata": {},
   "outputs": [],
   "source": [
    "def get_ipynb_filenames(path: Union[str, Path]) -> List[str]:\n",
    "    \"\"\"Return sorted list of *.ipynb filenames in `path`\"\"\"\n",
    "    path = Path(path)\n",
    "    \n",
    "    ipynb_paths = list(path.glob(\"*.ipynb\"))\n",
    "    ipynb_names = [file.name for file in ipynb_paths]\n",
    "    ipynb_names.sort(key=str.casefold)\n",
    "    \n",
    "    return ipynb_names"
   ]
  },
  {
   "cell_type": "code",
   "execution_count": 4,
   "metadata": {},
   "outputs": [
    {
     "data": {
      "text/plain": [
       "['01_intro.ipynb', '02_production.ipynb', '03_ethics.ipynb']"
      ]
     },
     "execution_count": 4,
     "metadata": {},
     "output_type": "execute_result"
    }
   ],
   "source": [
    "get_ipynb_filenames(Path.home() / \"Code\" / \"fastbook\")[0:3]"
   ]
  },
  {
   "cell_type": "code",
   "execution_count": 5,
   "metadata": {},
   "outputs": [],
   "source": [
    "# Colors\n",
    "GREEN = \"\\033[1;32m\"\n",
    "BLUE = \"\\033[1;34m\"\n",
    "MAGENTA = \"\\033[1;35m\"\n",
    "NOFMT = \"\\033[0m\"\n",
    "\n",
    "def print_badge_links(path: Union[str, Path]) -> None:\n",
    "    \"\"\"Print HTML for and 'open in colab' badge for all notebooks in 'path'\"\"\"\n",
    "    ipynb_names = get_ipynb_filenames(path)\n",
    "    for name in ipynb_names:\n",
    "        print(BLUE + \"[\" + name + \"]\" + NOFMT)\n",
    "        print(badge_link(notebook_name=name))\n",
    "        print()"
   ]
  },
  {
   "cell_type": "code",
   "execution_count": 6,
   "metadata": {},
   "outputs": [
    {
     "name": "stdout",
     "output_type": "stream",
     "text": [
      "\u001b[1;34m[01_intro.ipynb]\u001b[0m\n",
      "[![Open In Colab](https://colab.research.google.com/assets/colab-badge.svg)](https://colab.research.google.com/github/bogeholm/fastbook/blob/master/01_intro.ipynb)\n",
      "\n",
      "\u001b[1;34m[02_production.ipynb]\u001b[0m\n",
      "[![Open In Colab](https://colab.research.google.com/assets/colab-badge.svg)](https://colab.research.google.com/github/bogeholm/fastbook/blob/master/02_production.ipynb)\n",
      "\n",
      "\u001b[1;34m[03_ethics.ipynb]\u001b[0m\n",
      "[![Open In Colab](https://colab.research.google.com/assets/colab-badge.svg)](https://colab.research.google.com/github/bogeholm/fastbook/blob/master/03_ethics.ipynb)\n",
      "\n",
      "\u001b[1;34m[04_mnist_basics.ipynb]\u001b[0m\n",
      "[![Open In Colab](https://colab.research.google.com/assets/colab-badge.svg)](https://colab.research.google.com/github/bogeholm/fastbook/blob/master/04_mnist_basics.ipynb)\n",
      "\n",
      "\u001b[1;34m[05_pet_breeds.ipynb]\u001b[0m\n",
      "[![Open In Colab](https://colab.research.google.com/assets/colab-badge.svg)](https://colab.research.google.com/github/bogeholm/fastbook/blob/master/05_pet_breeds.ipynb)\n",
      "\n",
      "\u001b[1;34m[06_multicat.ipynb]\u001b[0m\n",
      "[![Open In Colab](https://colab.research.google.com/assets/colab-badge.svg)](https://colab.research.google.com/github/bogeholm/fastbook/blob/master/06_multicat.ipynb)\n",
      "\n",
      "\u001b[1;34m[07_sizing_and_tta.ipynb]\u001b[0m\n",
      "[![Open In Colab](https://colab.research.google.com/assets/colab-badge.svg)](https://colab.research.google.com/github/bogeholm/fastbook/blob/master/07_sizing_and_tta.ipynb)\n",
      "\n",
      "\u001b[1;34m[08_collab.ipynb]\u001b[0m\n",
      "[![Open In Colab](https://colab.research.google.com/assets/colab-badge.svg)](https://colab.research.google.com/github/bogeholm/fastbook/blob/master/08_collab.ipynb)\n",
      "\n",
      "\u001b[1;34m[09_tabular.ipynb]\u001b[0m\n",
      "[![Open In Colab](https://colab.research.google.com/assets/colab-badge.svg)](https://colab.research.google.com/github/bogeholm/fastbook/blob/master/09_tabular.ipynb)\n",
      "\n",
      "\u001b[1;34m[10_nlp.ipynb]\u001b[0m\n",
      "[![Open In Colab](https://colab.research.google.com/assets/colab-badge.svg)](https://colab.research.google.com/github/bogeholm/fastbook/blob/master/10_nlp.ipynb)\n",
      "\n",
      "\u001b[1;34m[11_midlevel_data.ipynb]\u001b[0m\n",
      "[![Open In Colab](https://colab.research.google.com/assets/colab-badge.svg)](https://colab.research.google.com/github/bogeholm/fastbook/blob/master/11_midlevel_data.ipynb)\n",
      "\n",
      "\u001b[1;34m[12_nlp_dive.ipynb]\u001b[0m\n",
      "[![Open In Colab](https://colab.research.google.com/assets/colab-badge.svg)](https://colab.research.google.com/github/bogeholm/fastbook/blob/master/12_nlp_dive.ipynb)\n",
      "\n",
      "\u001b[1;34m[13_convolutions.ipynb]\u001b[0m\n",
      "[![Open In Colab](https://colab.research.google.com/assets/colab-badge.svg)](https://colab.research.google.com/github/bogeholm/fastbook/blob/master/13_convolutions.ipynb)\n",
      "\n",
      "\u001b[1;34m[14_resnet.ipynb]\u001b[0m\n",
      "[![Open In Colab](https://colab.research.google.com/assets/colab-badge.svg)](https://colab.research.google.com/github/bogeholm/fastbook/blob/master/14_resnet.ipynb)\n",
      "\n",
      "\u001b[1;34m[15_arch_details.ipynb]\u001b[0m\n",
      "[![Open In Colab](https://colab.research.google.com/assets/colab-badge.svg)](https://colab.research.google.com/github/bogeholm/fastbook/blob/master/15_arch_details.ipynb)\n",
      "\n",
      "\u001b[1;34m[16_accel_sgd.ipynb]\u001b[0m\n",
      "[![Open In Colab](https://colab.research.google.com/assets/colab-badge.svg)](https://colab.research.google.com/github/bogeholm/fastbook/blob/master/16_accel_sgd.ipynb)\n",
      "\n",
      "\u001b[1;34m[17_foundations.ipynb]\u001b[0m\n",
      "[![Open In Colab](https://colab.research.google.com/assets/colab-badge.svg)](https://colab.research.google.com/github/bogeholm/fastbook/blob/master/17_foundations.ipynb)\n",
      "\n",
      "\u001b[1;34m[18_CAM.ipynb]\u001b[0m\n",
      "[![Open In Colab](https://colab.research.google.com/assets/colab-badge.svg)](https://colab.research.google.com/github/bogeholm/fastbook/blob/master/18_CAM.ipynb)\n",
      "\n",
      "\u001b[1;34m[19_learner.ipynb]\u001b[0m\n",
      "[![Open In Colab](https://colab.research.google.com/assets/colab-badge.svg)](https://colab.research.google.com/github/bogeholm/fastbook/blob/master/19_learner.ipynb)\n",
      "\n",
      "\u001b[1;34m[20_conclusion.ipynb]\u001b[0m\n",
      "[![Open In Colab](https://colab.research.google.com/assets/colab-badge.svg)](https://colab.research.google.com/github/bogeholm/fastbook/blob/master/20_conclusion.ipynb)\n",
      "\n",
      "\u001b[1;34m[app_blog.ipynb]\u001b[0m\n",
      "[![Open In Colab](https://colab.research.google.com/assets/colab-badge.svg)](https://colab.research.google.com/github/bogeholm/fastbook/blob/master/app_blog.ipynb)\n",
      "\n",
      "\u001b[1;34m[app_jupyter.ipynb]\u001b[0m\n",
      "[![Open In Colab](https://colab.research.google.com/assets/colab-badge.svg)](https://colab.research.google.com/github/bogeholm/fastbook/blob/master/app_jupyter.ipynb)\n",
      "\n"
     ]
    }
   ],
   "source": [
    "print_badge_links(Path.home() / \"Code\" / \"fastbook\")"
   ]
  },
  {
   "cell_type": "markdown",
   "metadata": {},
   "source": [
    "Let's try one!\n",
    "\n",
    "**Run this notebook in [Google Colab](https://colab.research.google.com/notebooks/intro.ipynb)**\n",
    "[![Open In Colab](https://colab.research.google.com/assets/colab-badge.svg)](https://colab.research.google.com/github/bogeholm/fastbook/blob/master/app_jupyter.ipynb)"
   ]
  },
  {
   "cell_type": "markdown",
   "metadata": {},
   "source": [
    "```markdown\n",
    "**Run this notebook in [Google Colab](https://colab.research.google.com/notebooks/intro.ipynb)**\n",
    "```"
   ]
  },
  {
   "cell_type": "code",
   "execution_count": null,
   "metadata": {},
   "outputs": [],
   "source": []
  }
 ],
 "metadata": {
  "kernelspec": {
   "display_name": "Python 3",
   "language": "python",
   "name": "python3"
  },
  "language_info": {
   "codemirror_mode": {
    "name": "ipython",
    "version": 3
   },
   "file_extension": ".py",
   "mimetype": "text/x-python",
   "name": "python",
   "nbconvert_exporter": "python",
   "pygments_lexer": "ipython3",
   "version": "3.8.3"
  }
 },
 "nbformat": 4,
 "nbformat_minor": 4
}
